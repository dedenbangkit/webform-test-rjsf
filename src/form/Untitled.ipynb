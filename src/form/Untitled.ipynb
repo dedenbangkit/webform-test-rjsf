{
 "cells": [
  {
   "cell_type": "code",
   "execution_count": 1,
   "metadata": {},
   "outputs": [],
   "source": [
    "import pandas as pd\n",
    "import os\n",
    "import json\n",
    "import uuid\n",
    "from IPython.display import display_javascript, display_html, display\n",
    "from copy import deepcopy"
   ]
  },
  {
   "cell_type": "code",
   "execution_count": 2,
   "metadata": {},
   "outputs": [],
   "source": [
    "class RenderJSON(object):\n",
    "    def __init__(self, json_data):\n",
    "        if isinstance(json_data, dict):\n",
    "            self.json_str = json.dumps(json_data)\n",
    "        else:\n",
    "            self.json_str = json_data\n",
    "        self.uuid = str(uuid.uuid4())\n",
    "\n",
    "    def _ipython_display_(self):\n",
    "        display_html('<div id=\"{}\" style=\"height: 600px; width:100%;\"></div>'.format(self.uuid), raw=True)\n",
    "        display_javascript(\"\"\"\n",
    "        require([\"https://rawgit.com/caldwell/renderjson/master/renderjson.js\"], function() {\n",
    "        document.getElementById('%s').appendChild(renderjson(%s))\n",
    "        });\n",
    "        \"\"\" % (self.uuid, self.json_str), raw=True)"
   ]
  },
  {
   "cell_type": "code",
   "execution_count": 3,
   "metadata": {},
   "outputs": [],
   "source": [
    "form = json.load(open('./form.json',))"
   ]
  },
  {
   "cell_type": "code",
   "execution_count": 4,
   "metadata": {},
   "outputs": [],
   "source": [
    "def get_schema_type(dtype):\n",
    "    if dtype in ['SECTION','group']:\n",
    "        dtype = 'object'\n",
    "    if dtype in ['group']:\n",
    "        dtype = 'array'\n",
    "    if dtype in ['url','string','option']:\n",
    "        dtype = 'string'\n",
    "    return dtype"
   ]
  },
  {
   "cell_type": "code",
   "execution_count": 5,
   "metadata": {},
   "outputs": [],
   "source": [
    "uiSchema = {}\n",
    "enums = []"
   ]
  },
  {
   "cell_type": "code",
   "execution_count": 6,
   "metadata": {},
   "outputs": [
    {
     "data": {
      "text/html": [
       "<div>\n",
       "<style scoped>\n",
       "    .dataframe tbody tr th:only-of-type {\n",
       "        vertical-align: middle;\n",
       "    }\n",
       "\n",
       "    .dataframe tbody tr th {\n",
       "        vertical-align: top;\n",
       "    }\n",
       "\n",
       "    .dataframe thead th {\n",
       "        text-align: right;\n",
       "    }\n",
       "</style>\n",
       "<table border=\"1\" class=\"dataframe\">\n",
       "  <thead>\n",
       "    <tr style=\"text-align: right;\">\n",
       "      <th></th>\n",
       "    </tr>\n",
       "  </thead>\n",
       "  <tbody>\n",
       "  </tbody>\n",
       "</table>\n",
       "</div>"
      ],
      "text/plain": [
       "Empty DataFrame\n",
       "Columns: []\n",
       "Index: []"
      ]
     },
     "execution_count": 6,
     "metadata": {},
     "output_type": "execute_result"
    }
   ],
   "source": [
    "pd.DataFrame(enums)"
   ]
  },
  {
   "cell_type": "code",
   "execution_count": 7,
   "metadata": {},
   "outputs": [],
   "source": [
    "def get_rules(s, enums, nm, schm, dependencies):\n",
    "    oneOf = []\n",
    "    rName = \"\"\n",
    "    for g in list(filter(lambda en: en['estring'] in s['enum'] and en['id'] == s['id'], enums)):\n",
    "        rName = g['name']\n",
    "        rRule = {rName: {\"enum\": [g[\"enum\"]]}}\n",
    "        rRule.update({nm:schm})\n",
    "        oneOf.append({\"properties\": rRule,\"required\":[nm]})\n",
    "    if rName in dependencies:\n",
    "        for dpd in dependencies[rName]['oneOf']:\n",
    "            oneOf.append(dpd)\n",
    "    return {rName: {\"oneOf\": oneOf}}"
   ]
  },
  {
   "cell_type": "code",
   "execution_count": 8,
   "metadata": {},
   "outputs": [],
   "source": [
    "def dig_schema(pid,d, currentSchema, parentSchema, uiS):\n",
    "    if d['type'] == 'SECTION':\n",
    "        uiS.update({\"classNames\":\"list-group\"})\n",
    "    elif d['type'] == 'group':\n",
    "        uiS.update({\"classNames\":\"list-group-item\"})\n",
    "    else:\n",
    "        uiS.update({\"classNames\":\"col-md-12\"})\n",
    "    if 'children' in d:\n",
    "        dependencies = {}\n",
    "        hasDependency = False\n",
    "        for c in d['children']:\n",
    "            name = (\"{}_{}\").format(pid,c['id'])\n",
    "            uiS.update({name:{}})\n",
    "            r = {'title':\"{}. {}\".format(c['id'], c['description']),\n",
    "                 'type':get_schema_type(c['type'])}\n",
    "            enum = []\n",
    "            if 'enum' in c:\n",
    "                enumNames = c['enum']\n",
    "                for i, e in enumerate(c['enum']):\n",
    "                    ename = c['id'] + '-' + str(i)\n",
    "                    enum.append(ename)\n",
    "                    enums.append({\n",
    "                        'id':c['id'],\n",
    "                        'name':name,\n",
    "                        'question':c['description'],\n",
    "                        'enum':ename,\n",
    "                        'estring':e\n",
    "                    })\n",
    "                if r['type'] == 'string':\n",
    "                    r.update({'enum':enum})\n",
    "                    r.update({'enumNames':enumNames})\n",
    "                    uiS.update({name:{\"ui:widget\": \"radio\"}})\n",
    "                if r['type'] == 'array':\n",
    "                    \"\"\"\n",
    "                    FOR CHECKBOXES\n",
    "                    uiS.update({name:{\"ui:widget\": \"checkboxes\"}})\n",
    "                    r.update({\n",
    "                        \"type\": \"array\",\n",
    "                        \"items\": {\n",
    "                            \"enum\": enum,\n",
    "                            \"enumNames\": enumNames,   \n",
    "                        },\n",
    "                        \"uniqueItems\": True\n",
    "                    })\n",
    "                    \"\"\"\n",
    "                    uiS.update({name:{\"ui:widget\": \"radio\"}})\n",
    "                    r.update({\n",
    "                        \"type\": \"string\",\n",
    "                        \"enum\": enum,\n",
    "                        \"enumNames\": enumNames,\n",
    "                        \"uniqueItems\": True\n",
    "                    })\n",
    "            if 'children' in c:\n",
    "                r.update({'properties':dig_schema(name,c,{}, r, uiS[name])})\n",
    "            if 'rule' in c:\n",
    "                hasDependency = True\n",
    "                rule = get_rules(c['rule'], enums, name , r, dependencies)\n",
    "                r.update({'hasRule':True})\n",
    "                dependencies.update(rule)\n",
    "            if 'rule' not in c:\n",
    "                r.update({'hasRule':False})\n",
    "            currentSchema.update({name: r})\n",
    "        if hasDependency:\n",
    "            parentSchema.update({'dependencies':dependencies})\n",
    "    return currentSchema"
   ]
  },
  {
   "cell_type": "code",
   "execution_count": 9,
   "metadata": {},
   "outputs": [],
   "source": [
    "schema = {}\n",
    "for s in form:\n",
    "    uiSchema.update({s['id']:{}})\n",
    "    schema.update({\n",
    "        s['id']: {\n",
    "            'title':s['description'],\n",
    "            'type':get_schema_type(s['type']),\n",
    "            'properties': dig_schema(s['id'],s,{},{},uiSchema[s['id']])\n",
    "        }\n",
    "    })"
   ]
  },
  {
   "cell_type": "code",
   "execution_count": 10,
   "metadata": {
    "scrolled": false
   },
   "outputs": [
    {
     "data": {
      "text/html": [
       "<div id=\"568ee01a-fd44-49c1-be7e-df8ee27dc1d5\" style=\"height: 600px; width:100%;\"></div>"
      ]
     },
     "metadata": {},
     "output_type": "display_data"
    },
    {
     "data": {
      "application/javascript": [
       "\n",
       "        require([\"https://rawgit.com/caldwell/renderjson/master/renderjson.js\"], function() {\n",
       "        document.getElementById('568ee01a-fd44-49c1-be7e-df8ee27dc1d5').appendChild(renderjson({\"S1\": {\"classNames\": \"list-group\", \"S1_1\": {\"ui:widget\": \"radio\"}}, \"S2\": {\"classNames\": \"list-group\", \"S2_G1\": {\"classNames\": \"list-group-item\", \"S2_G1_2\": {}, \"S2_G1_3\": {}, \"S2_G1_4\": {\"ui:widget\": \"radio\"}, \"S2_G1_4.1.1\": {\"ui:widget\": \"radio\"}, \"S2_G1_4.1.2\": {}, \"S2_G1_4.2.1\": {\"ui:widget\": \"radio\"}, \"S2_G1_4.2.2\": {}, \"S2_G1_4.3.1\": {\"ui:widget\": \"radio\"}, \"S2_G1_4.3.2\": {}, \"S2_G1_4.4.1\": {\"ui:widget\": \"radio\"}, \"S2_G1_4.4.2\": {}, \"S2_G1_4.4.3\": {\"ui:widget\": \"radio\"}, \"S2_G1_4.4.4\": {}, \"S2_G1_4.4.5\": {}, \"S2_G1_4.4.6\": {}}, \"S2_G2\": {\"classNames\": \"list-group-item\", \"S2_G2_5\": {\"ui:widget\": \"radio\"}, \"S2_G2_5.1\": {}, \"S2_G2_5.2\": {\"ui:widget\": \"radio\"}, \"S2_G2_6\": {}, \"S2_G2_7\": {\"ui:widget\": \"radio\"}, \"S2_G2_8\": {}, \"S2_G2_9\": {\"ui:widget\": \"radio\"}, \"S2_G2_10\": {\"ui:widget\": \"radio\"}, \"S2_G2_11\": {}, \"S2_G2_12\": {}}, \"S2_G3\": {\"classNames\": \"list-group-item\", \"S2_G3_13\": {\"ui:widget\": \"radio\"}, \"S2_G3_14\": {\"ui:widget\": \"radio\"}}}, \"S3\": {\"classNames\": \"list-group\", \"S3_G1\": {\"classNames\": \"list-group-item\", \"S3_G1_15\": {\"ui:widget\": \"radio\"}, \"S3_G1_16\": {}, \"S3_G1_17\": {\"ui:widget\": \"radio\"}, \"S3_G1_18\": {}, \"S3_G1_19\": {\"ui:widget\": \"radio\"}, \"S3_G1_20\": {}}, \"S3_G2\": {\"classNames\": \"list-group-item\", \"S3_G2_21\": {}, \"S3_G2_22\": {}, \"S3_G2_23\": {\"ui:widget\": \"radio\"}, \"S3_G2_23.1\": {\"ui:widget\": \"radio\"}, \"S3_G2_23.2\": {\"ui:widget\": \"radio\"}, \"S3_G2_23.3\": {\"ui:widget\": \"radio\"}, \"S3_G2_23.4\": {\"ui:widget\": \"radio\"}}, \"S3_G3\": {\"classNames\": \"list-group-item\", \"S3_G3_25\": {\"ui:widget\": \"radio\"}, \"S3_G3_26\": {}, \"S3_G3_27\": {\"ui:widget\": \"radio\"}, \"S3_G3_28\": {}, \"S3_G3_29\": {\"ui:widget\": \"radio\"}, \"S3_G3_30\": {\"ui:widget\": \"radio\"}}, \"S3_G4\": {\"classNames\": \"list-group-item\", \"S3_G4_31\": {}, \"S3_G4_32\": {}}, \"S3_G5\": {\"classNames\": \"list-group-item\", \"S3_G5_33\": {\"ui:widget\": \"radio\"}, \"S3_G5_34\": {}, \"S3_G5_34.1\": {\"ui:widget\": \"radio\"}, \"S3_G5_35\": {}, \"S3_G5_35.1\": {\"ui:widget\": \"radio\"}}, \"S3_G6\": {\"classNames\": \"list-group-item\", \"S3_G6_36\": {\"ui:widget\": \"radio\"}, \"S3_G6_37\": {}}, \"S3_G7\": {\"classNames\": \"list-group-item\", \"S3_G7_38\": {}, \"S3_G7_39\": {\"ui:widget\": \"radio\"}, \"S3_G7_39.1\": {}}}}))\n",
       "        });\n",
       "        "
      ]
     },
     "metadata": {},
     "output_type": "display_data"
    }
   ],
   "source": [
    "RenderJSON(uiSchema)"
   ]
  },
  {
   "cell_type": "code",
   "execution_count": 11,
   "metadata": {
    "scrolled": false
   },
   "outputs": [],
   "source": [
    "schema = {'type':'object','properties':schema}\n",
    "json_object = json.dumps(schema, indent = 4)\n",
    "with open(\"./schema.json\", \"w\") as outfile:\n",
    "    outfile.write(json_object)"
   ]
  },
  {
   "cell_type": "code",
   "execution_count": 12,
   "metadata": {},
   "outputs": [],
   "source": [
    "json_object = json.dumps(uiSchema, indent = 4)\n",
    "with open(\"./uiSchema.json\", \"w\") as outfile:\n",
    "    outfile.write(json_object)"
   ]
  },
  {
   "cell_type": "code",
   "execution_count": null,
   "metadata": {},
   "outputs": [],
   "source": []
  }
 ],
 "metadata": {
  "kernelspec": {
   "display_name": "Python 3",
   "language": "python",
   "name": "python3"
  },
  "language_info": {
   "codemirror_mode": {
    "name": "ipython",
    "version": 3
   },
   "file_extension": ".py",
   "mimetype": "text/x-python",
   "name": "python",
   "nbconvert_exporter": "python",
   "pygments_lexer": "ipython3",
   "version": "3.8.5"
  },
  "toc": {
   "base_numbering": 1,
   "nav_menu": {},
   "number_sections": true,
   "sideBar": true,
   "skip_h1_title": false,
   "title_cell": "Table of Contents",
   "title_sidebar": "Contents",
   "toc_cell": false,
   "toc_position": {},
   "toc_section_display": true,
   "toc_window_display": false
  }
 },
 "nbformat": 4,
 "nbformat_minor": 4
}
